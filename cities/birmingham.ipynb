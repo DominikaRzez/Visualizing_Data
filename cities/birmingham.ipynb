{
 "cells": [
  {
   "cell_type": "code",
   "execution_count": 1,
   "id": "68292862",
   "metadata": {},
   "outputs": [],
   "source": [
    "import requests\n",
    "import json\n",
    "import pandas as pd\n",
    "from pandas.io.json import json_normalize"
   ]
  },
  {
   "cell_type": "code",
   "execution_count": 2,
   "id": "0e7a59ab",
   "metadata": {},
   "outputs": [],
   "source": [
    "base_url = \"https://data.police.uk/api/stops-street?\""
   ]
  },
  {
   "cell_type": "code",
   "execution_count": 3,
   "id": "cb39ae8a",
   "metadata": {},
   "outputs": [],
   "source": [
    "coordinates = \"lat=52.4862&lng=-1.8904&date=\"\n",
    "dates = [\"2021-01\", \"2021-02\", \"2021-03\", \"2021-04\", \"2021-05\"]"
   ]
  },
  {
   "cell_type": "code",
   "execution_count": 4,
   "id": "01b9880f",
   "metadata": {},
   "outputs": [],
   "source": [
    "jan_may = []\n",
    "for date in dates:\n",
    "    query_url = base_url + coordinates + date\n",
    "    response = requests.get(query_url)\n",
    "    jan_may.append(response.json())"
   ]
  },
  {
   "cell_type": "code",
   "execution_count": 5,
   "id": "deb5951e",
   "metadata": {},
   "outputs": [
    {
     "data": {
      "text/html": [
       "<div>\n",
       "<style scoped>\n",
       "    .dataframe tbody tr th:only-of-type {\n",
       "        vertical-align: middle;\n",
       "    }\n",
       "\n",
       "    .dataframe tbody tr th {\n",
       "        vertical-align: top;\n",
       "    }\n",
       "\n",
       "    .dataframe thead th {\n",
       "        text-align: right;\n",
       "    }\n",
       "</style>\n",
       "<table border=\"1\" class=\"dataframe\">\n",
       "  <thead>\n",
       "    <tr style=\"text-align: right;\">\n",
       "      <th></th>\n",
       "      <th>age_range</th>\n",
       "      <th>outcome</th>\n",
       "      <th>involved_person</th>\n",
       "      <th>self_defined_ethnicity</th>\n",
       "      <th>gender</th>\n",
       "      <th>legislation</th>\n",
       "      <th>outcome_linked_to_object_of_search</th>\n",
       "      <th>datetime</th>\n",
       "      <th>removal_of_more_than_outer_clothing</th>\n",
       "      <th>outcome_object</th>\n",
       "      <th>location</th>\n",
       "      <th>operation</th>\n",
       "      <th>officer_defined_ethnicity</th>\n",
       "      <th>type</th>\n",
       "      <th>operation_name</th>\n",
       "      <th>object_of_search</th>\n",
       "    </tr>\n",
       "  </thead>\n",
       "  <tbody>\n",
       "    <tr>\n",
       "      <th>0</th>\n",
       "      <td>over 34</td>\n",
       "      <td>A no further action disposal</td>\n",
       "      <td>True</td>\n",
       "      <td>White - English/Welsh/Scottish/Northern Irish/...</td>\n",
       "      <td>Male</td>\n",
       "      <td>Police and Criminal Evidence Act 1984 (section 1)</td>\n",
       "      <td>True</td>\n",
       "      <td>2021-01-03T14:56:00+00:00</td>\n",
       "      <td>False</td>\n",
       "      <td>{'id': 'bu-no-further-action', 'name': 'A no f...</td>\n",
       "      <td>{'latitude': '52.477800', 'street': {'id': 148...</td>\n",
       "      <td>None</td>\n",
       "      <td>None</td>\n",
       "      <td>Person search</td>\n",
       "      <td>None</td>\n",
       "      <td>Evidence of offences under the Act</td>\n",
       "    </tr>\n",
       "    <tr>\n",
       "      <th>1</th>\n",
       "      <td>18-24</td>\n",
       "      <td>Caution (simple or conditional)</td>\n",
       "      <td>True</td>\n",
       "      <td>Asian/Asian British - Pakistani</td>\n",
       "      <td>Male</td>\n",
       "      <td>Misuse of Drugs Act 1971 (section 23)</td>\n",
       "      <td>True</td>\n",
       "      <td>2021-01-03T21:14:00+00:00</td>\n",
       "      <td>False</td>\n",
       "      <td>{'id': 'bu-caution', 'name': 'Caution (simple ...</td>\n",
       "      <td>{'latitude': '52.488400', 'street': {'id': 148...</td>\n",
       "      <td>None</td>\n",
       "      <td>Asian</td>\n",
       "      <td>Person search</td>\n",
       "      <td>None</td>\n",
       "      <td>Controlled drugs</td>\n",
       "    </tr>\n",
       "    <tr>\n",
       "      <th>2</th>\n",
       "      <td>over 34</td>\n",
       "      <td>A no further action disposal</td>\n",
       "      <td>True</td>\n",
       "      <td>White - English/Welsh/Scottish/Northern Irish/...</td>\n",
       "      <td>Male</td>\n",
       "      <td>Police and Criminal Evidence Act 1984 (section 1)</td>\n",
       "      <td>False</td>\n",
       "      <td>2021-01-05T14:33:00+00:00</td>\n",
       "      <td>False</td>\n",
       "      <td>{'id': 'bu-no-further-action', 'name': 'A no f...</td>\n",
       "      <td>{'latitude': '52.481994', 'street': {'id': 148...</td>\n",
       "      <td>None</td>\n",
       "      <td>White</td>\n",
       "      <td>Person search</td>\n",
       "      <td>None</td>\n",
       "      <td>Stolen goods</td>\n",
       "    </tr>\n",
       "    <tr>\n",
       "      <th>3</th>\n",
       "      <td>10-17</td>\n",
       "      <td>A no further action disposal</td>\n",
       "      <td>True</td>\n",
       "      <td>White - English/Welsh/Scottish/Northern Irish/...</td>\n",
       "      <td>Male</td>\n",
       "      <td>Misuse of Drugs Act 1971 (section 23)</td>\n",
       "      <td>False</td>\n",
       "      <td>2021-01-07T16:18:00+00:00</td>\n",
       "      <td>False</td>\n",
       "      <td>{'id': 'bu-no-further-action', 'name': 'A no f...</td>\n",
       "      <td>{'latitude': '52.477800', 'street': {'id': 148...</td>\n",
       "      <td>None</td>\n",
       "      <td>White</td>\n",
       "      <td>Person search</td>\n",
       "      <td>None</td>\n",
       "      <td>Controlled drugs</td>\n",
       "    </tr>\n",
       "    <tr>\n",
       "      <th>4</th>\n",
       "      <td>over 34</td>\n",
       "      <td>A no further action disposal</td>\n",
       "      <td>True</td>\n",
       "      <td>White - English/Welsh/Scottish/Northern Irish/...</td>\n",
       "      <td>Male</td>\n",
       "      <td>Police and Criminal Evidence Act 1984 (section 1)</td>\n",
       "      <td>False</td>\n",
       "      <td>2021-01-07T19:22:00+00:00</td>\n",
       "      <td>False</td>\n",
       "      <td>{'id': 'bu-no-further-action', 'name': 'A no f...</td>\n",
       "      <td>{'latitude': '52.478321', 'street': {'id': 149...</td>\n",
       "      <td>None</td>\n",
       "      <td>White</td>\n",
       "      <td>Person search</td>\n",
       "      <td>None</td>\n",
       "      <td>Anything to threaten or harm anyone</td>\n",
       "    </tr>\n",
       "  </tbody>\n",
       "</table>\n",
       "</div>"
      ],
      "text/plain": [
       "  age_range                          outcome  involved_person  \\\n",
       "0   over 34     A no further action disposal             True   \n",
       "1     18-24  Caution (simple or conditional)             True   \n",
       "2   over 34     A no further action disposal             True   \n",
       "3     10-17     A no further action disposal             True   \n",
       "4   over 34     A no further action disposal             True   \n",
       "\n",
       "                              self_defined_ethnicity gender  \\\n",
       "0  White - English/Welsh/Scottish/Northern Irish/...   Male   \n",
       "1                    Asian/Asian British - Pakistani   Male   \n",
       "2  White - English/Welsh/Scottish/Northern Irish/...   Male   \n",
       "3  White - English/Welsh/Scottish/Northern Irish/...   Male   \n",
       "4  White - English/Welsh/Scottish/Northern Irish/...   Male   \n",
       "\n",
       "                                         legislation  \\\n",
       "0  Police and Criminal Evidence Act 1984 (section 1)   \n",
       "1              Misuse of Drugs Act 1971 (section 23)   \n",
       "2  Police and Criminal Evidence Act 1984 (section 1)   \n",
       "3              Misuse of Drugs Act 1971 (section 23)   \n",
       "4  Police and Criminal Evidence Act 1984 (section 1)   \n",
       "\n",
       "  outcome_linked_to_object_of_search                   datetime  \\\n",
       "0                               True  2021-01-03T14:56:00+00:00   \n",
       "1                               True  2021-01-03T21:14:00+00:00   \n",
       "2                              False  2021-01-05T14:33:00+00:00   \n",
       "3                              False  2021-01-07T16:18:00+00:00   \n",
       "4                              False  2021-01-07T19:22:00+00:00   \n",
       "\n",
       "  removal_of_more_than_outer_clothing  \\\n",
       "0                               False   \n",
       "1                               False   \n",
       "2                               False   \n",
       "3                               False   \n",
       "4                               False   \n",
       "\n",
       "                                      outcome_object  \\\n",
       "0  {'id': 'bu-no-further-action', 'name': 'A no f...   \n",
       "1  {'id': 'bu-caution', 'name': 'Caution (simple ...   \n",
       "2  {'id': 'bu-no-further-action', 'name': 'A no f...   \n",
       "3  {'id': 'bu-no-further-action', 'name': 'A no f...   \n",
       "4  {'id': 'bu-no-further-action', 'name': 'A no f...   \n",
       "\n",
       "                                            location operation  \\\n",
       "0  {'latitude': '52.477800', 'street': {'id': 148...      None   \n",
       "1  {'latitude': '52.488400', 'street': {'id': 148...      None   \n",
       "2  {'latitude': '52.481994', 'street': {'id': 148...      None   \n",
       "3  {'latitude': '52.477800', 'street': {'id': 148...      None   \n",
       "4  {'latitude': '52.478321', 'street': {'id': 149...      None   \n",
       "\n",
       "  officer_defined_ethnicity           type operation_name  \\\n",
       "0                      None  Person search           None   \n",
       "1                     Asian  Person search           None   \n",
       "2                     White  Person search           None   \n",
       "3                     White  Person search           None   \n",
       "4                     White  Person search           None   \n",
       "\n",
       "                      object_of_search  \n",
       "0   Evidence of offences under the Act  \n",
       "1                     Controlled drugs  \n",
       "2                         Stolen goods  \n",
       "3                     Controlled drugs  \n",
       "4  Anything to threaten or harm anyone  "
      ]
     },
     "execution_count": 5,
     "metadata": {},
     "output_type": "execute_result"
    }
   ],
   "source": [
    "birmingham_data = pd.DataFrame.from_dict(jan_may[0])\n",
    "birmingham_data = birmingham_data.append(pd.DataFrame.from_dict(jan_may[0]))\n",
    "birmingham_data = birmingham_data.append(pd.DataFrame.from_dict(jan_may[1]))\n",
    "birmingham_data = birmingham_data.append(pd.DataFrame.from_dict(jan_may[2]))\n",
    "birmingham_data = birmingham_data.append(pd.DataFrame.from_dict(jan_may[3]))\n",
    "birmingham_data = birmingham_data.append(pd.DataFrame.from_dict(jan_may[4]))\n",
    "birmingham_data.head()"
   ]
  },
  {
   "cell_type": "code",
   "execution_count": 6,
   "id": "f2ca025d",
   "metadata": {},
   "outputs": [
    {
     "data": {
      "text/html": [
       "<div>\n",
       "<style scoped>\n",
       "    .dataframe tbody tr th:only-of-type {\n",
       "        vertical-align: middle;\n",
       "    }\n",
       "\n",
       "    .dataframe tbody tr th {\n",
       "        vertical-align: top;\n",
       "    }\n",
       "\n",
       "    .dataframe thead th {\n",
       "        text-align: right;\n",
       "    }\n",
       "</style>\n",
       "<table border=\"1\" class=\"dataframe\">\n",
       "  <thead>\n",
       "    <tr style=\"text-align: right;\">\n",
       "      <th></th>\n",
       "      <th>age_range</th>\n",
       "      <th>self_defined_ethnicity</th>\n",
       "      <th>gender</th>\n",
       "      <th>officer_defined_ethnicity</th>\n",
       "      <th>object_of_search</th>\n",
       "      <th>location</th>\n",
       "    </tr>\n",
       "  </thead>\n",
       "  <tbody>\n",
       "    <tr>\n",
       "      <th>0</th>\n",
       "      <td>over 34</td>\n",
       "      <td>White - English/Welsh/Scottish/Northern Irish/...</td>\n",
       "      <td>Male</td>\n",
       "      <td>None</td>\n",
       "      <td>Evidence of offences under the Act</td>\n",
       "      <td>{'latitude': '52.477800', 'street': {'id': 148...</td>\n",
       "    </tr>\n",
       "    <tr>\n",
       "      <th>1</th>\n",
       "      <td>18-24</td>\n",
       "      <td>Asian/Asian British - Pakistani</td>\n",
       "      <td>Male</td>\n",
       "      <td>Asian</td>\n",
       "      <td>Controlled drugs</td>\n",
       "      <td>{'latitude': '52.488400', 'street': {'id': 148...</td>\n",
       "    </tr>\n",
       "    <tr>\n",
       "      <th>2</th>\n",
       "      <td>over 34</td>\n",
       "      <td>White - English/Welsh/Scottish/Northern Irish/...</td>\n",
       "      <td>Male</td>\n",
       "      <td>White</td>\n",
       "      <td>Stolen goods</td>\n",
       "      <td>{'latitude': '52.481994', 'street': {'id': 148...</td>\n",
       "    </tr>\n",
       "    <tr>\n",
       "      <th>3</th>\n",
       "      <td>10-17</td>\n",
       "      <td>White - English/Welsh/Scottish/Northern Irish/...</td>\n",
       "      <td>Male</td>\n",
       "      <td>White</td>\n",
       "      <td>Controlled drugs</td>\n",
       "      <td>{'latitude': '52.477800', 'street': {'id': 148...</td>\n",
       "    </tr>\n",
       "    <tr>\n",
       "      <th>4</th>\n",
       "      <td>over 34</td>\n",
       "      <td>White - English/Welsh/Scottish/Northern Irish/...</td>\n",
       "      <td>Male</td>\n",
       "      <td>White</td>\n",
       "      <td>Anything to threaten or harm anyone</td>\n",
       "      <td>{'latitude': '52.478321', 'street': {'id': 149...</td>\n",
       "    </tr>\n",
       "  </tbody>\n",
       "</table>\n",
       "</div>"
      ],
      "text/plain": [
       "  age_range                             self_defined_ethnicity gender  \\\n",
       "0   over 34  White - English/Welsh/Scottish/Northern Irish/...   Male   \n",
       "1     18-24                    Asian/Asian British - Pakistani   Male   \n",
       "2   over 34  White - English/Welsh/Scottish/Northern Irish/...   Male   \n",
       "3     10-17  White - English/Welsh/Scottish/Northern Irish/...   Male   \n",
       "4   over 34  White - English/Welsh/Scottish/Northern Irish/...   Male   \n",
       "\n",
       "  officer_defined_ethnicity                     object_of_search  \\\n",
       "0                      None   Evidence of offences under the Act   \n",
       "1                     Asian                     Controlled drugs   \n",
       "2                     White                         Stolen goods   \n",
       "3                     White                     Controlled drugs   \n",
       "4                     White  Anything to threaten or harm anyone   \n",
       "\n",
       "                                            location  \n",
       "0  {'latitude': '52.477800', 'street': {'id': 148...  \n",
       "1  {'latitude': '52.488400', 'street': {'id': 148...  \n",
       "2  {'latitude': '52.481994', 'street': {'id': 148...  \n",
       "3  {'latitude': '52.477800', 'street': {'id': 148...  \n",
       "4  {'latitude': '52.478321', 'street': {'id': 149...  "
      ]
     },
     "execution_count": 6,
     "metadata": {},
     "output_type": "execute_result"
    }
   ],
   "source": [
    "birmingham_stops = birmingham_data[[\"age_range\", \"self_defined_ethnicity\", \"gender\", \"officer_defined_ethnicity\", \"object_of_search\", \"location\"]]\n",
    "birmingham_stops.head()"
   ]
  },
  {
   "cell_type": "code",
   "execution_count": 9,
   "id": "6d10e075",
   "metadata": {},
   "outputs": [
    {
     "name": "stderr",
     "output_type": "stream",
     "text": [
      "<ipython-input-9-abfcf5311977>:1: SettingWithCopyWarning: \n",
      "A value is trying to be set on a copy of a slice from a DataFrame.\n",
      "Try using .loc[row_indexer,col_indexer] = value instead\n",
      "\n",
      "See the caveats in the documentation: https://pandas.pydata.org/pandas-docs/stable/user_guide/indexing.html#returning-a-view-versus-a-copy\n",
      "  birmingham_stops['country'] = 'Birmingham'\n"
     ]
    }
   ],
   "source": [
    "birmingham_stops['country'] = 'Birmingham'"
   ]
  },
  {
   "cell_type": "code",
   "execution_count": 10,
   "id": "780adc43",
   "metadata": {},
   "outputs": [],
   "source": [
    "birmingham_stops.set_index('country', inplace=True)"
   ]
  },
  {
   "cell_type": "code",
   "execution_count": 12,
   "id": "ded5da15",
   "metadata": {},
   "outputs": [
    {
     "data": {
      "text/html": [
       "<div>\n",
       "<style scoped>\n",
       "    .dataframe tbody tr th:only-of-type {\n",
       "        vertical-align: middle;\n",
       "    }\n",
       "\n",
       "    .dataframe tbody tr th {\n",
       "        vertical-align: top;\n",
       "    }\n",
       "\n",
       "    .dataframe thead th {\n",
       "        text-align: right;\n",
       "    }\n",
       "</style>\n",
       "<table border=\"1\" class=\"dataframe\">\n",
       "  <thead>\n",
       "    <tr style=\"text-align: right;\">\n",
       "      <th></th>\n",
       "      <th>age_range</th>\n",
       "      <th>self_defined_ethnicity</th>\n",
       "      <th>gender</th>\n",
       "      <th>officer_defined_ethnicity</th>\n",
       "      <th>object_of_search</th>\n",
       "      <th>location</th>\n",
       "    </tr>\n",
       "    <tr>\n",
       "      <th>country</th>\n",
       "      <th></th>\n",
       "      <th></th>\n",
       "      <th></th>\n",
       "      <th></th>\n",
       "      <th></th>\n",
       "      <th></th>\n",
       "    </tr>\n",
       "  </thead>\n",
       "  <tbody>\n",
       "    <tr>\n",
       "      <th>Birmingham</th>\n",
       "      <td>over 34</td>\n",
       "      <td>White - English/Welsh/Scottish/Northern Irish/...</td>\n",
       "      <td>Male</td>\n",
       "      <td>None</td>\n",
       "      <td>Evidence of offences under the Act</td>\n",
       "      <td>{'latitude': '52.477800', 'street': {'id': 148...</td>\n",
       "    </tr>\n",
       "    <tr>\n",
       "      <th>Birmingham</th>\n",
       "      <td>18-24</td>\n",
       "      <td>Asian/Asian British - Pakistani</td>\n",
       "      <td>Male</td>\n",
       "      <td>Asian</td>\n",
       "      <td>Controlled drugs</td>\n",
       "      <td>{'latitude': '52.488400', 'street': {'id': 148...</td>\n",
       "    </tr>\n",
       "    <tr>\n",
       "      <th>Birmingham</th>\n",
       "      <td>over 34</td>\n",
       "      <td>White - English/Welsh/Scottish/Northern Irish/...</td>\n",
       "      <td>Male</td>\n",
       "      <td>White</td>\n",
       "      <td>Stolen goods</td>\n",
       "      <td>{'latitude': '52.481994', 'street': {'id': 148...</td>\n",
       "    </tr>\n",
       "    <tr>\n",
       "      <th>Birmingham</th>\n",
       "      <td>10-17</td>\n",
       "      <td>White - English/Welsh/Scottish/Northern Irish/...</td>\n",
       "      <td>Male</td>\n",
       "      <td>White</td>\n",
       "      <td>Controlled drugs</td>\n",
       "      <td>{'latitude': '52.477800', 'street': {'id': 148...</td>\n",
       "    </tr>\n",
       "    <tr>\n",
       "      <th>Birmingham</th>\n",
       "      <td>over 34</td>\n",
       "      <td>White - English/Welsh/Scottish/Northern Irish/...</td>\n",
       "      <td>Male</td>\n",
       "      <td>White</td>\n",
       "      <td>Anything to threaten or harm anyone</td>\n",
       "      <td>{'latitude': '52.478321', 'street': {'id': 149...</td>\n",
       "    </tr>\n",
       "  </tbody>\n",
       "</table>\n",
       "</div>"
      ],
      "text/plain": [
       "           age_range                             self_defined_ethnicity  \\\n",
       "country                                                                   \n",
       "Birmingham   over 34  White - English/Welsh/Scottish/Northern Irish/...   \n",
       "Birmingham     18-24                    Asian/Asian British - Pakistani   \n",
       "Birmingham   over 34  White - English/Welsh/Scottish/Northern Irish/...   \n",
       "Birmingham     10-17  White - English/Welsh/Scottish/Northern Irish/...   \n",
       "Birmingham   over 34  White - English/Welsh/Scottish/Northern Irish/...   \n",
       "\n",
       "           gender officer_defined_ethnicity  \\\n",
       "country                                       \n",
       "Birmingham   Male                      None   \n",
       "Birmingham   Male                     Asian   \n",
       "Birmingham   Male                     White   \n",
       "Birmingham   Male                     White   \n",
       "Birmingham   Male                     White   \n",
       "\n",
       "                               object_of_search  \\\n",
       "country                                           \n",
       "Birmingham   Evidence of offences under the Act   \n",
       "Birmingham                     Controlled drugs   \n",
       "Birmingham                         Stolen goods   \n",
       "Birmingham                     Controlled drugs   \n",
       "Birmingham  Anything to threaten or harm anyone   \n",
       "\n",
       "                                                     location  \n",
       "country                                                        \n",
       "Birmingham  {'latitude': '52.477800', 'street': {'id': 148...  \n",
       "Birmingham  {'latitude': '52.488400', 'street': {'id': 148...  \n",
       "Birmingham  {'latitude': '52.481994', 'street': {'id': 148...  \n",
       "Birmingham  {'latitude': '52.477800', 'street': {'id': 148...  \n",
       "Birmingham  {'latitude': '52.478321', 'street': {'id': 149...  "
      ]
     },
     "execution_count": 12,
     "metadata": {},
     "output_type": "execute_result"
    }
   ],
   "source": [
    "birmingham_stops.head()"
   ]
  },
  {
   "cell_type": "code",
   "execution_count": 13,
   "id": "a21a2a82",
   "metadata": {},
   "outputs": [
    {
     "data": {
      "text/plain": [
       "gender\n",
       "Female     58\n",
       "Male      428\n",
       "Name: gender, dtype: int64"
      ]
     },
     "execution_count": 13,
     "metadata": {},
     "output_type": "execute_result"
    }
   ],
   "source": [
    "gender = birmingham_stops[\"gender\"]\n",
    "gender.groupby(gender).count()"
   ]
  },
  {
   "cell_type": "code",
   "execution_count": 14,
   "id": "eef838ce",
   "metadata": {},
   "outputs": [
    {
     "data": {
      "text/plain": [
       "self_defined_ethnicity\n",
       "Asian/Asian British - Any other Asian background                                         39\n",
       "Asian/Asian British - Bangladeshi                                                        45\n",
       "Asian/Asian British - Chinese                                                             3\n",
       "Asian/Asian British - Indian                                                             49\n",
       "Asian/Asian British - Pakistani                                                         194\n",
       "Black/African/Caribbean/Black British - African                                         110\n",
       "Black/African/Caribbean/Black British - Any other Black/African/Caribbean background     57\n",
       "Black/African/Caribbean/Black British - Caribbean                                       133\n",
       "Mixed/Multiple ethnic groups - Any other Mixed/Multiple ethnic background                31\n",
       "Mixed/Multiple ethnic groups - White and Asian                                           10\n",
       "Mixed/Multiple ethnic groups - White and Black African                                    6\n",
       "Mixed/Multiple ethnic groups - White and Black Caribbean                                 50\n",
       "Other ethnic group - Any other ethnic group                                               3\n",
       "Other ethnic group - Not stated                                                          95\n",
       "White - Any other White background                                                       48\n",
       "White - English/Welsh/Scottish/Northern Irish/British                                   318\n",
       "White - Irish                                                                            14\n",
       "Name: self_defined_ethnicity, dtype: int64"
      ]
     },
     "execution_count": 14,
     "metadata": {},
     "output_type": "execute_result"
    }
   ],
   "source": [
    "ethnicity = birmingham_stops[\"self_defined_ethnicity\"]\n",
    "ethnicity.groupby(ethnicity).count()"
   ]
  },
  {
   "cell_type": "code",
   "execution_count": 15,
   "id": "65a5195e",
   "metadata": {},
   "outputs": [
    {
     "data": {
      "text/plain": [
       "object_of_search\n",
       "Anything to threaten or harm anyone     16\n",
       "Article for use in theft                84\n",
       "Articles for use in criminal damage     13\n",
       "Controlled drugs                       711\n",
       "Evidence of offences under the Act       5\n",
       "Firearms                                20\n",
       "Offensive weapons                      303\n",
       "Stolen goods                           138\n",
       "Name: object_of_search, dtype: int64"
      ]
     },
     "execution_count": 15,
     "metadata": {},
     "output_type": "execute_result"
    }
   ],
   "source": [
    "crime_type = birmingham_stops[\"object_of_search\"]\n",
    "crime_type.groupby(crime_type).count()"
   ]
  },
  {
   "cell_type": "code",
   "execution_count": 16,
   "id": "dbbcb111",
   "metadata": {},
   "outputs": [
    {
     "data": {
      "text/plain": [
       "age_range\n",
       "10-17      228\n",
       "18-24      352\n",
       "25-34      180\n",
       "over 34    169\n",
       "Name: age_range, dtype: int64"
      ]
     },
     "execution_count": 16,
     "metadata": {},
     "output_type": "execute_result"
    }
   ],
   "source": [
    "age_range = birmingham_stops[\"age_range\"]\n",
    "age_range.groupby(age_range).count()"
   ]
  },
  {
   "cell_type": "code",
   "execution_count": 17,
   "id": "bcc2d453",
   "metadata": {},
   "outputs": [
    {
     "data": {
      "text/plain": [
       "officer_defined_ethnicity\n",
       "Asian    313\n",
       "Black    112\n",
       "Other     28\n",
       "White    153\n",
       "Name: officer_defined_ethnicity, dtype: int64"
      ]
     },
     "execution_count": 17,
     "metadata": {},
     "output_type": "execute_result"
    }
   ],
   "source": [
    "officer_defined_ethnicity = birmingham_stops[\"officer_defined_ethnicity\"]\n",
    "officer_defined_ethnicity.groupby(officer_defined_ethnicity).count()"
   ]
  },
  {
   "cell_type": "code",
   "execution_count": 18,
   "id": "47313023",
   "metadata": {},
   "outputs": [],
   "source": [
    "birmingham_stops.to_csv(\"data/birmingham.csv\")"
   ]
  }
 ],
 "metadata": {
  "kernelspec": {
   "display_name": "Python 3",
   "language": "python",
   "name": "python3"
  },
  "language_info": {
   "codemirror_mode": {
    "name": "ipython",
    "version": 3
   },
   "file_extension": ".py",
   "mimetype": "text/x-python",
   "name": "python",
   "nbconvert_exporter": "python",
   "pygments_lexer": "ipython3",
   "version": "3.8.8"
  }
 },
 "nbformat": 4,
 "nbformat_minor": 5
}
