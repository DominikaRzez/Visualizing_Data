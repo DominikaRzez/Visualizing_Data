{
 "cells": [
  {
   "cell_type": "code",
   "execution_count": 1,
   "id": "1e48bd8b",
   "metadata": {},
   "outputs": [],
   "source": [
    " # Dependencies\n",
    "import requests\n",
    "import json\n",
    "import pandas as pd"
   ]
  },
  {
   "cell_type": "code",
   "execution_count": 2,
   "id": "17a5c3da",
   "metadata": {},
   "outputs": [],
   "source": [
    "base_url = \"https://data.police.uk/api/stops-street?\"\n",
    "coordinates = \"lat=55.9533&lng=-3.1883&date=\"\n",
    "dates = [\"2021-01\",\"2021-02\",\"2021-03\",\"2021-04\",\"2021-05\"]"
   ]
  },
  {
   "cell_type": "code",
   "execution_count": 3,
   "id": "9c6dd3fd",
   "metadata": {},
   "outputs": [],
   "source": [
    "jan_may = []\n",
    "for date in dates:\n",
    "    query_url = base_url + coordinates + date\n",
    "    response = requests.get(query_url).json()\n",
    "    jan_may.append(response)"
   ]
  },
  {
   "cell_type": "code",
   "execution_count": 4,
   "id": "c91e51c7",
   "metadata": {},
   "outputs": [
    {
     "data": {
      "text/html": [
       "<div>\n",
       "<style scoped>\n",
       "    .dataframe tbody tr th:only-of-type {\n",
       "        vertical-align: middle;\n",
       "    }\n",
       "\n",
       "    .dataframe tbody tr th {\n",
       "        vertical-align: top;\n",
       "    }\n",
       "\n",
       "    .dataframe thead th {\n",
       "        text-align: right;\n",
       "    }\n",
       "</style>\n",
       "<table border=\"1\" class=\"dataframe\">\n",
       "  <thead>\n",
       "    <tr style=\"text-align: right;\">\n",
       "      <th></th>\n",
       "      <th>age_range</th>\n",
       "      <th>outcome</th>\n",
       "      <th>involved_person</th>\n",
       "      <th>self_defined_ethnicity</th>\n",
       "      <th>gender</th>\n",
       "      <th>legislation</th>\n",
       "      <th>outcome_linked_to_object_of_search</th>\n",
       "      <th>datetime</th>\n",
       "      <th>removal_of_more_than_outer_clothing</th>\n",
       "      <th>outcome_object</th>\n",
       "      <th>location</th>\n",
       "      <th>operation</th>\n",
       "      <th>officer_defined_ethnicity</th>\n",
       "      <th>type</th>\n",
       "      <th>operation_name</th>\n",
       "      <th>object_of_search</th>\n",
       "    </tr>\n",
       "  </thead>\n",
       "  <tbody>\n",
       "    <tr>\n",
       "      <th>0</th>\n",
       "      <td>25-34</td>\n",
       "      <td>Summons / charged by post</td>\n",
       "      <td>True</td>\n",
       "      <td>White - English/Welsh/Scottish/Northern Irish/...</td>\n",
       "      <td>Male</td>\n",
       "      <td>Misuse of Drugs Act 1971 (section 23)</td>\n",
       "      <td>True</td>\n",
       "      <td>2021-01-20T19:37:00+00:00</td>\n",
       "      <td>False</td>\n",
       "      <td>{'id': 'bu-summons', 'name': 'Summons / charge...</td>\n",
       "      <td>{'latitude': '55.952496', 'street': {'id': 148...</td>\n",
       "      <td>None</td>\n",
       "      <td>White</td>\n",
       "      <td>Person search</td>\n",
       "      <td>None</td>\n",
       "      <td>Controlled drugs</td>\n",
       "    </tr>\n",
       "    <tr>\n",
       "      <th>1</th>\n",
       "      <td>over 34</td>\n",
       "      <td>Summons / charged by post</td>\n",
       "      <td>True</td>\n",
       "      <td>White - English/Welsh/Scottish/Northern Irish/...</td>\n",
       "      <td>Male</td>\n",
       "      <td>Misuse of Drugs Act 1971 (section 23)</td>\n",
       "      <td>True</td>\n",
       "      <td>2021-01-20T20:11:00+00:00</td>\n",
       "      <td>False</td>\n",
       "      <td>{'id': 'bu-summons', 'name': 'Summons / charge...</td>\n",
       "      <td>{'latitude': '55.952496', 'street': {'id': 148...</td>\n",
       "      <td>None</td>\n",
       "      <td>White</td>\n",
       "      <td>Person search</td>\n",
       "      <td>None</td>\n",
       "      <td>Controlled drugs</td>\n",
       "    </tr>\n",
       "    <tr>\n",
       "      <th>0</th>\n",
       "      <td>18-24</td>\n",
       "      <td>A no further action disposal</td>\n",
       "      <td>True</td>\n",
       "      <td>White - English/Welsh/Scottish/Northern Irish/...</td>\n",
       "      <td>Male</td>\n",
       "      <td>Misuse of Drugs Act 1971 (section 23)</td>\n",
       "      <td>False</td>\n",
       "      <td>2021-02-03T11:51:00+00:00</td>\n",
       "      <td>False</td>\n",
       "      <td>{'id': 'bu-no-further-action', 'name': 'A no f...</td>\n",
       "      <td>{'latitude': '55.952496', 'street': {'id': 148...</td>\n",
       "      <td>None</td>\n",
       "      <td>White</td>\n",
       "      <td>Person search</td>\n",
       "      <td>None</td>\n",
       "      <td>Controlled drugs</td>\n",
       "    </tr>\n",
       "    <tr>\n",
       "      <th>1</th>\n",
       "      <td>25-34</td>\n",
       "      <td>Summons / charged by post</td>\n",
       "      <td>True</td>\n",
       "      <td>White - English/Welsh/Scottish/Northern Irish/...</td>\n",
       "      <td>Male</td>\n",
       "      <td>Misuse of Drugs Act 1971 (section 23)</td>\n",
       "      <td>True</td>\n",
       "      <td>2021-02-03T09:16:00+00:00</td>\n",
       "      <td>False</td>\n",
       "      <td>{'id': 'bu-summons', 'name': 'Summons / charge...</td>\n",
       "      <td>{'latitude': '55.952496', 'street': {'id': 148...</td>\n",
       "      <td>None</td>\n",
       "      <td>White</td>\n",
       "      <td>Person search</td>\n",
       "      <td>None</td>\n",
       "      <td>Controlled drugs</td>\n",
       "    </tr>\n",
       "    <tr>\n",
       "      <th>2</th>\n",
       "      <td>over 34</td>\n",
       "      <td>Summons / charged by post</td>\n",
       "      <td>True</td>\n",
       "      <td>White - English/Welsh/Scottish/Northern Irish/...</td>\n",
       "      <td>Male</td>\n",
       "      <td>Misuse of Drugs Act 1971 (section 23)</td>\n",
       "      <td>True</td>\n",
       "      <td>2021-02-03T14:29:00+00:00</td>\n",
       "      <td>False</td>\n",
       "      <td>{'id': 'bu-summons', 'name': 'Summons / charge...</td>\n",
       "      <td>{'latitude': '55.952496', 'street': {'id': 148...</td>\n",
       "      <td>None</td>\n",
       "      <td>White</td>\n",
       "      <td>Person search</td>\n",
       "      <td>None</td>\n",
       "      <td>Controlled drugs</td>\n",
       "    </tr>\n",
       "  </tbody>\n",
       "</table>\n",
       "</div>"
      ],
      "text/plain": [
       "  age_range                       outcome  involved_person  \\\n",
       "0     25-34     Summons / charged by post             True   \n",
       "1   over 34     Summons / charged by post             True   \n",
       "0     18-24  A no further action disposal             True   \n",
       "1     25-34     Summons / charged by post             True   \n",
       "2   over 34     Summons / charged by post             True   \n",
       "\n",
       "                              self_defined_ethnicity gender  \\\n",
       "0  White - English/Welsh/Scottish/Northern Irish/...   Male   \n",
       "1  White - English/Welsh/Scottish/Northern Irish/...   Male   \n",
       "0  White - English/Welsh/Scottish/Northern Irish/...   Male   \n",
       "1  White - English/Welsh/Scottish/Northern Irish/...   Male   \n",
       "2  White - English/Welsh/Scottish/Northern Irish/...   Male   \n",
       "\n",
       "                             legislation  outcome_linked_to_object_of_search  \\\n",
       "0  Misuse of Drugs Act 1971 (section 23)                                True   \n",
       "1  Misuse of Drugs Act 1971 (section 23)                                True   \n",
       "0  Misuse of Drugs Act 1971 (section 23)                               False   \n",
       "1  Misuse of Drugs Act 1971 (section 23)                                True   \n",
       "2  Misuse of Drugs Act 1971 (section 23)                                True   \n",
       "\n",
       "                    datetime  removal_of_more_than_outer_clothing  \\\n",
       "0  2021-01-20T19:37:00+00:00                                False   \n",
       "1  2021-01-20T20:11:00+00:00                                False   \n",
       "0  2021-02-03T11:51:00+00:00                                False   \n",
       "1  2021-02-03T09:16:00+00:00                                False   \n",
       "2  2021-02-03T14:29:00+00:00                                False   \n",
       "\n",
       "                                      outcome_object  \\\n",
       "0  {'id': 'bu-summons', 'name': 'Summons / charge...   \n",
       "1  {'id': 'bu-summons', 'name': 'Summons / charge...   \n",
       "0  {'id': 'bu-no-further-action', 'name': 'A no f...   \n",
       "1  {'id': 'bu-summons', 'name': 'Summons / charge...   \n",
       "2  {'id': 'bu-summons', 'name': 'Summons / charge...   \n",
       "\n",
       "                                            location operation  \\\n",
       "0  {'latitude': '55.952496', 'street': {'id': 148...      None   \n",
       "1  {'latitude': '55.952496', 'street': {'id': 148...      None   \n",
       "0  {'latitude': '55.952496', 'street': {'id': 148...      None   \n",
       "1  {'latitude': '55.952496', 'street': {'id': 148...      None   \n",
       "2  {'latitude': '55.952496', 'street': {'id': 148...      None   \n",
       "\n",
       "  officer_defined_ethnicity           type operation_name  object_of_search  \n",
       "0                     White  Person search           None  Controlled drugs  \n",
       "1                     White  Person search           None  Controlled drugs  \n",
       "0                     White  Person search           None  Controlled drugs  \n",
       "1                     White  Person search           None  Controlled drugs  \n",
       "2                     White  Person search           None  Controlled drugs  "
      ]
     },
     "execution_count": 4,
     "metadata": {},
     "output_type": "execute_result"
    }
   ],
   "source": [
    "edinburgh_data = pd.DataFrame.from_dict(jan_may[0])\n",
    "edinburgh_data = edinburgh_data.append(pd.DataFrame.from_dict(jan_may[1]))\n",
    "edinburgh_data = edinburgh_data.append(pd.DataFrame.from_dict(jan_may[2]))\n",
    "edinburgh_data = edinburgh_data.append(pd.DataFrame.from_dict(jan_may[3]))\n",
    "edinburgh_data = edinburgh_data.append(pd.DataFrame.from_dict(jan_may[4]))\n",
    "edinburgh_data.head()"
   ]
  },
  {
   "cell_type": "code",
   "execution_count": 5,
   "id": "83505118",
   "metadata": {},
   "outputs": [],
   "source": [
    "edinburgh_stops = edinburgh_data[[\"age_range\", \"self_defined_ethnicity\", \"gender\", \"officer_defined_ethnicity\", \"object_of_search\", \"location\"]]"
   ]
  },
  {
   "cell_type": "code",
   "execution_count": 6,
   "id": "e30b078e",
   "metadata": {},
   "outputs": [
    {
     "name": "stderr",
     "output_type": "stream",
     "text": [
      "<ipython-input-6-85922f109d18>:1: SettingWithCopyWarning: \n",
      "A value is trying to be set on a copy of a slice from a DataFrame.\n",
      "Try using .loc[row_indexer,col_indexer] = value instead\n",
      "\n",
      "See the caveats in the documentation: https://pandas.pydata.org/pandas-docs/stable/user_guide/indexing.html#returning-a-view-versus-a-copy\n",
      "  edinburgh_stops['country'] = 'edinburgh'\n"
     ]
    }
   ],
   "source": [
    "edinburgh_stops['country'] = 'edinburgh'"
   ]
  },
  {
   "cell_type": "code",
   "execution_count": 7,
   "id": "1eb7f359",
   "metadata": {},
   "outputs": [],
   "source": [
    "edinburgh_stops.set_index('country', inplace=True)"
   ]
  },
  {
   "cell_type": "code",
   "execution_count": 10,
   "id": "e8a48361",
   "metadata": {},
   "outputs": [],
   "source": [
    "ed_selected = edinburgh_stops.head(100)\n",
    "ed_selected.to_csv(\"../data/selected_locations/Edinburgh_selected.csv\")"
   ]
  },
  {
   "cell_type": "code",
   "execution_count": 11,
   "id": "94503a6b",
   "metadata": {},
   "outputs": [
    {
     "data": {
      "text/plain": [
       "gender\n",
       "Female     3\n",
       "Male      18\n",
       "Name: gender, dtype: int64"
      ]
     },
     "execution_count": 11,
     "metadata": {},
     "output_type": "execute_result"
    }
   ],
   "source": [
    "gender = edinburgh_stops[\"gender\"]\n",
    "gender.groupby(gender).count()"
   ]
  },
  {
   "cell_type": "code",
   "execution_count": 12,
   "id": "79512cf3",
   "metadata": {},
   "outputs": [
    {
     "data": {
      "text/plain": [
       "self_defined_ethnicity\n",
       "Asian/Asian British - Bangladeshi                         1\n",
       "White - Any other White background                        4\n",
       "White - English/Welsh/Scottish/Northern Irish/British    16\n",
       "Name: self_defined_ethnicity, dtype: int64"
      ]
     },
     "execution_count": 12,
     "metadata": {},
     "output_type": "execute_result"
    }
   ],
   "source": [
    "ethnicity = edinburgh_stops[\"self_defined_ethnicity\"]\n",
    "ethnicity.groupby(ethnicity).count()"
   ]
  },
  {
   "cell_type": "code",
   "execution_count": 13,
   "id": "001b8733",
   "metadata": {},
   "outputs": [
    {
     "data": {
      "text/plain": [
       "object_of_search\n",
       "Anything to threaten or harm anyone     3\n",
       "Controlled drugs                       16\n",
       "Stolen goods                            2\n",
       "Name: object_of_search, dtype: int64"
      ]
     },
     "execution_count": 13,
     "metadata": {},
     "output_type": "execute_result"
    }
   ],
   "source": [
    "crime_type = edinburgh_stops[\"object_of_search\"]\n",
    "crime_type.groupby(crime_type).count()"
   ]
  },
  {
   "cell_type": "code",
   "execution_count": 14,
   "id": "71e5cb16",
   "metadata": {},
   "outputs": [
    {
     "data": {
      "text/plain": [
       "age_range\n",
       "10-17      2\n",
       "18-24      3\n",
       "25-34      9\n",
       "over 34    6\n",
       "Name: age_range, dtype: int64"
      ]
     },
     "execution_count": 14,
     "metadata": {},
     "output_type": "execute_result"
    }
   ],
   "source": [
    "age_range = edinburgh_stops[\"age_range\"]\n",
    "age_range.groupby(age_range).count()"
   ]
  },
  {
   "cell_type": "code",
   "execution_count": 15,
   "id": "e9dc2934",
   "metadata": {},
   "outputs": [
    {
     "data": {
      "text/plain": [
       "self_defined_ethnicity\n",
       "Asian/Asian British - Bangladeshi                         1\n",
       "White - Any other White background                        4\n",
       "White - English/Welsh/Scottish/Northern Irish/British    16\n",
       "Name: self_defined_ethnicity, dtype: int64"
      ]
     },
     "execution_count": 15,
     "metadata": {},
     "output_type": "execute_result"
    }
   ],
   "source": [
    "self_defined_ethnicity = edinburgh_stops[\"self_defined_ethnicity\"]\n",
    "self_defined_ethnicity.groupby(self_defined_ethnicity).count()"
   ]
  },
  {
   "cell_type": "code",
   "execution_count": 16,
   "id": "376e2569",
   "metadata": {},
   "outputs": [],
   "source": [
    "edinburgh_stops.to_csv(\"../data/edinburgh.csv\")"
   ]
  }
 ],
 "metadata": {
  "kernelspec": {
   "display_name": "Python 3",
   "language": "python",
   "name": "python3"
  },
  "language_info": {
   "codemirror_mode": {
    "name": "ipython",
    "version": 3
   },
   "file_extension": ".py",
   "mimetype": "text/x-python",
   "name": "python",
   "nbconvert_exporter": "python",
   "pygments_lexer": "ipython3",
   "version": "3.8.8"
  }
 },
 "nbformat": 4,
 "nbformat_minor": 5
}
