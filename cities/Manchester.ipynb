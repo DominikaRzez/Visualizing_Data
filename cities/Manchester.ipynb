{
 "cells": [
  {
   "cell_type": "code",
   "execution_count": 1,
   "id": "e03dd3eb",
   "metadata": {},
   "outputs": [],
   "source": [
    " # Dependencies\n",
    "import requests\n",
    "import json\n",
    "import pandas as pd"
   ]
  },
  {
   "cell_type": "code",
   "execution_count": 2,
   "id": "876dcd7d",
   "metadata": {},
   "outputs": [],
   "source": [
    "base_url = \"https://data.police.uk/api/stops-street?\"\n",
    "coordinates = \"lat=53.4808&lng=-2.2426&date=\"\n",
    "dates = [\"2021-01\",\"2021-02\",\"2021-03\",\"2021-04\",\"2021-05\"]"
   ]
  },
  {
   "cell_type": "code",
   "execution_count": 3,
   "id": "0991656f",
   "metadata": {},
   "outputs": [],
   "source": [
    "jan_may = []\n",
    "for date in dates:\n",
    "    query_url = base_url + coordinates + date\n",
    "    response = requests.get(query_url).json()\n",
    "    jan_may.append(response)"
   ]
  },
  {
   "cell_type": "code",
   "execution_count": 4,
   "id": "0de361a1",
   "metadata": {},
   "outputs": [
    {
     "data": {
      "text/html": [
       "<div>\n",
       "<style scoped>\n",
       "    .dataframe tbody tr th:only-of-type {\n",
       "        vertical-align: middle;\n",
       "    }\n",
       "\n",
       "    .dataframe tbody tr th {\n",
       "        vertical-align: top;\n",
       "    }\n",
       "\n",
       "    .dataframe thead th {\n",
       "        text-align: right;\n",
       "    }\n",
       "</style>\n",
       "<table border=\"1\" class=\"dataframe\">\n",
       "  <thead>\n",
       "    <tr style=\"text-align: right;\">\n",
       "      <th></th>\n",
       "      <th>age_range</th>\n",
       "      <th>outcome</th>\n",
       "      <th>involved_person</th>\n",
       "      <th>self_defined_ethnicity</th>\n",
       "      <th>gender</th>\n",
       "      <th>legislation</th>\n",
       "      <th>outcome_linked_to_object_of_search</th>\n",
       "      <th>datetime</th>\n",
       "      <th>removal_of_more_than_outer_clothing</th>\n",
       "      <th>outcome_object</th>\n",
       "      <th>location</th>\n",
       "      <th>operation</th>\n",
       "      <th>officer_defined_ethnicity</th>\n",
       "      <th>type</th>\n",
       "      <th>operation_name</th>\n",
       "      <th>object_of_search</th>\n",
       "    </tr>\n",
       "  </thead>\n",
       "  <tbody>\n",
       "    <tr>\n",
       "      <th>0</th>\n",
       "      <td>10-17</td>\n",
       "      <td>A no further action disposal</td>\n",
       "      <td>True</td>\n",
       "      <td>Other ethnic group - Not stated</td>\n",
       "      <td>Male</td>\n",
       "      <td>Misuse of Drugs Act 1971 (section 23)</td>\n",
       "      <td>True</td>\n",
       "      <td>2021-01-02T19:50:00+00:00</td>\n",
       "      <td>False</td>\n",
       "      <td>{'id': 'bu-no-further-action', 'name': 'A no f...</td>\n",
       "      <td>{'latitude': '53.488565', 'street': {'id': 148...</td>\n",
       "      <td>None</td>\n",
       "      <td>Asian</td>\n",
       "      <td>Person search</td>\n",
       "      <td>None</td>\n",
       "      <td>Controlled drugs</td>\n",
       "    </tr>\n",
       "    <tr>\n",
       "      <th>1</th>\n",
       "      <td>over 34</td>\n",
       "      <td>Arrest</td>\n",
       "      <td>True</td>\n",
       "      <td>Other ethnic group - Not stated</td>\n",
       "      <td>Male</td>\n",
       "      <td>Police and Criminal Evidence Act 1984 (section 1)</td>\n",
       "      <td>True</td>\n",
       "      <td>2021-01-03T17:28:00+00:00</td>\n",
       "      <td>False</td>\n",
       "      <td>{'id': 'bu-arrest', 'name': 'Arrest'}</td>\n",
       "      <td>{'latitude': '53.477512', 'street': {'id': 148...</td>\n",
       "      <td>None</td>\n",
       "      <td>White</td>\n",
       "      <td>Person search</td>\n",
       "      <td>None</td>\n",
       "      <td>Stolen goods</td>\n",
       "    </tr>\n",
       "    <tr>\n",
       "      <th>2</th>\n",
       "      <td>10-17</td>\n",
       "      <td>A no further action disposal</td>\n",
       "      <td>True</td>\n",
       "      <td>White - English/Welsh/Scottish/Northern Irish/...</td>\n",
       "      <td>None</td>\n",
       "      <td>Misuse of Drugs Act 1971 (section 23)</td>\n",
       "      <td>False</td>\n",
       "      <td>2021-01-07T16:55:00+00:00</td>\n",
       "      <td>False</td>\n",
       "      <td>{'id': 'bu-no-further-action', 'name': 'A no f...</td>\n",
       "      <td>{'latitude': '53.477512', 'street': {'id': 148...</td>\n",
       "      <td>None</td>\n",
       "      <td>White</td>\n",
       "      <td>Person search</td>\n",
       "      <td>None</td>\n",
       "      <td>Controlled drugs</td>\n",
       "    </tr>\n",
       "    <tr>\n",
       "      <th>3</th>\n",
       "      <td>10-17</td>\n",
       "      <td>A no further action disposal</td>\n",
       "      <td>True</td>\n",
       "      <td>White - English/Welsh/Scottish/Northern Irish/...</td>\n",
       "      <td>None</td>\n",
       "      <td>Misuse of Drugs Act 1971 (section 23)</td>\n",
       "      <td>False</td>\n",
       "      <td>2021-01-07T17:00:00+00:00</td>\n",
       "      <td>False</td>\n",
       "      <td>{'id': 'bu-no-further-action', 'name': 'A no f...</td>\n",
       "      <td>{'latitude': '53.477512', 'street': {'id': 148...</td>\n",
       "      <td>None</td>\n",
       "      <td>White</td>\n",
       "      <td>Person search</td>\n",
       "      <td>None</td>\n",
       "      <td>Controlled drugs</td>\n",
       "    </tr>\n",
       "    <tr>\n",
       "      <th>4</th>\n",
       "      <td>10-17</td>\n",
       "      <td>Community resolution</td>\n",
       "      <td>True</td>\n",
       "      <td>White - English/Welsh/Scottish/Northern Irish/...</td>\n",
       "      <td>Male</td>\n",
       "      <td>Misuse of Drugs Act 1971 (section 23)</td>\n",
       "      <td>True</td>\n",
       "      <td>2021-01-07T19:30:00+00:00</td>\n",
       "      <td>False</td>\n",
       "      <td>{'id': 'bu-community-resolution', 'name': 'Com...</td>\n",
       "      <td>{'latitude': '53.477512', 'street': {'id': 148...</td>\n",
       "      <td>None</td>\n",
       "      <td>White</td>\n",
       "      <td>Person search</td>\n",
       "      <td>None</td>\n",
       "      <td>Controlled drugs</td>\n",
       "    </tr>\n",
       "  </tbody>\n",
       "</table>\n",
       "</div>"
      ],
      "text/plain": [
       "  age_range                       outcome  involved_person  \\\n",
       "0     10-17  A no further action disposal             True   \n",
       "1   over 34                        Arrest             True   \n",
       "2     10-17  A no further action disposal             True   \n",
       "3     10-17  A no further action disposal             True   \n",
       "4     10-17          Community resolution             True   \n",
       "\n",
       "                              self_defined_ethnicity gender  \\\n",
       "0                    Other ethnic group - Not stated   Male   \n",
       "1                    Other ethnic group - Not stated   Male   \n",
       "2  White - English/Welsh/Scottish/Northern Irish/...   None   \n",
       "3  White - English/Welsh/Scottish/Northern Irish/...   None   \n",
       "4  White - English/Welsh/Scottish/Northern Irish/...   Male   \n",
       "\n",
       "                                         legislation  \\\n",
       "0              Misuse of Drugs Act 1971 (section 23)   \n",
       "1  Police and Criminal Evidence Act 1984 (section 1)   \n",
       "2              Misuse of Drugs Act 1971 (section 23)   \n",
       "3              Misuse of Drugs Act 1971 (section 23)   \n",
       "4              Misuse of Drugs Act 1971 (section 23)   \n",
       "\n",
       "  outcome_linked_to_object_of_search                   datetime  \\\n",
       "0                               True  2021-01-02T19:50:00+00:00   \n",
       "1                               True  2021-01-03T17:28:00+00:00   \n",
       "2                              False  2021-01-07T16:55:00+00:00   \n",
       "3                              False  2021-01-07T17:00:00+00:00   \n",
       "4                               True  2021-01-07T19:30:00+00:00   \n",
       "\n",
       "  removal_of_more_than_outer_clothing  \\\n",
       "0                               False   \n",
       "1                               False   \n",
       "2                               False   \n",
       "3                               False   \n",
       "4                               False   \n",
       "\n",
       "                                      outcome_object  \\\n",
       "0  {'id': 'bu-no-further-action', 'name': 'A no f...   \n",
       "1              {'id': 'bu-arrest', 'name': 'Arrest'}   \n",
       "2  {'id': 'bu-no-further-action', 'name': 'A no f...   \n",
       "3  {'id': 'bu-no-further-action', 'name': 'A no f...   \n",
       "4  {'id': 'bu-community-resolution', 'name': 'Com...   \n",
       "\n",
       "                                            location operation  \\\n",
       "0  {'latitude': '53.488565', 'street': {'id': 148...      None   \n",
       "1  {'latitude': '53.477512', 'street': {'id': 148...      None   \n",
       "2  {'latitude': '53.477512', 'street': {'id': 148...      None   \n",
       "3  {'latitude': '53.477512', 'street': {'id': 148...      None   \n",
       "4  {'latitude': '53.477512', 'street': {'id': 148...      None   \n",
       "\n",
       "  officer_defined_ethnicity           type operation_name  object_of_search  \n",
       "0                     Asian  Person search           None  Controlled drugs  \n",
       "1                     White  Person search           None      Stolen goods  \n",
       "2                     White  Person search           None  Controlled drugs  \n",
       "3                     White  Person search           None  Controlled drugs  \n",
       "4                     White  Person search           None  Controlled drugs  "
      ]
     },
     "execution_count": 4,
     "metadata": {},
     "output_type": "execute_result"
    }
   ],
   "source": [
    "manchester_data = pd.DataFrame.from_dict(jan_may[0])\n",
    "manchester_data = manchester_data.append(pd.DataFrame.from_dict(jan_may[1]))\n",
    "manchester_data = manchester_data.append(pd.DataFrame.from_dict(jan_may[2]))\n",
    "manchester_data = manchester_data.append(pd.DataFrame.from_dict(jan_may[3]))\n",
    "manchester_data = manchester_data.append(pd.DataFrame.from_dict(jan_may[4]))\n",
    "manchester_data.head()"
   ]
  },
  {
   "cell_type": "code",
   "execution_count": 5,
   "id": "b44530b4",
   "metadata": {},
   "outputs": [
    {
     "data": {
      "text/html": [
       "<div>\n",
       "<style scoped>\n",
       "    .dataframe tbody tr th:only-of-type {\n",
       "        vertical-align: middle;\n",
       "    }\n",
       "\n",
       "    .dataframe tbody tr th {\n",
       "        vertical-align: top;\n",
       "    }\n",
       "\n",
       "    .dataframe thead th {\n",
       "        text-align: right;\n",
       "    }\n",
       "</style>\n",
       "<table border=\"1\" class=\"dataframe\">\n",
       "  <thead>\n",
       "    <tr style=\"text-align: right;\">\n",
       "      <th></th>\n",
       "      <th>age_range</th>\n",
       "      <th>self_defined_ethnicity</th>\n",
       "      <th>gender</th>\n",
       "      <th>officer_defined_ethnicity</th>\n",
       "      <th>object_of_search</th>\n",
       "      <th>location</th>\n",
       "    </tr>\n",
       "  </thead>\n",
       "  <tbody>\n",
       "    <tr>\n",
       "      <th>0</th>\n",
       "      <td>10-17</td>\n",
       "      <td>Other ethnic group - Not stated</td>\n",
       "      <td>Male</td>\n",
       "      <td>Asian</td>\n",
       "      <td>Controlled drugs</td>\n",
       "      <td>{'latitude': '53.488565', 'street': {'id': 148...</td>\n",
       "    </tr>\n",
       "    <tr>\n",
       "      <th>1</th>\n",
       "      <td>over 34</td>\n",
       "      <td>Other ethnic group - Not stated</td>\n",
       "      <td>Male</td>\n",
       "      <td>White</td>\n",
       "      <td>Stolen goods</td>\n",
       "      <td>{'latitude': '53.477512', 'street': {'id': 148...</td>\n",
       "    </tr>\n",
       "    <tr>\n",
       "      <th>2</th>\n",
       "      <td>10-17</td>\n",
       "      <td>White - English/Welsh/Scottish/Northern Irish/...</td>\n",
       "      <td>None</td>\n",
       "      <td>White</td>\n",
       "      <td>Controlled drugs</td>\n",
       "      <td>{'latitude': '53.477512', 'street': {'id': 148...</td>\n",
       "    </tr>\n",
       "    <tr>\n",
       "      <th>3</th>\n",
       "      <td>10-17</td>\n",
       "      <td>White - English/Welsh/Scottish/Northern Irish/...</td>\n",
       "      <td>None</td>\n",
       "      <td>White</td>\n",
       "      <td>Controlled drugs</td>\n",
       "      <td>{'latitude': '53.477512', 'street': {'id': 148...</td>\n",
       "    </tr>\n",
       "    <tr>\n",
       "      <th>4</th>\n",
       "      <td>10-17</td>\n",
       "      <td>White - English/Welsh/Scottish/Northern Irish/...</td>\n",
       "      <td>Male</td>\n",
       "      <td>White</td>\n",
       "      <td>Controlled drugs</td>\n",
       "      <td>{'latitude': '53.477512', 'street': {'id': 148...</td>\n",
       "    </tr>\n",
       "  </tbody>\n",
       "</table>\n",
       "</div>"
      ],
      "text/plain": [
       "  age_range                             self_defined_ethnicity gender  \\\n",
       "0     10-17                    Other ethnic group - Not stated   Male   \n",
       "1   over 34                    Other ethnic group - Not stated   Male   \n",
       "2     10-17  White - English/Welsh/Scottish/Northern Irish/...   None   \n",
       "3     10-17  White - English/Welsh/Scottish/Northern Irish/...   None   \n",
       "4     10-17  White - English/Welsh/Scottish/Northern Irish/...   Male   \n",
       "\n",
       "  officer_defined_ethnicity  object_of_search  \\\n",
       "0                     Asian  Controlled drugs   \n",
       "1                     White      Stolen goods   \n",
       "2                     White  Controlled drugs   \n",
       "3                     White  Controlled drugs   \n",
       "4                     White  Controlled drugs   \n",
       "\n",
       "                                            location  \n",
       "0  {'latitude': '53.488565', 'street': {'id': 148...  \n",
       "1  {'latitude': '53.477512', 'street': {'id': 148...  \n",
       "2  {'latitude': '53.477512', 'street': {'id': 148...  \n",
       "3  {'latitude': '53.477512', 'street': {'id': 148...  \n",
       "4  {'latitude': '53.477512', 'street': {'id': 148...  "
      ]
     },
     "execution_count": 5,
     "metadata": {},
     "output_type": "execute_result"
    }
   ],
   "source": [
    "manchester_stops = manchester_data[[\"age_range\", \"self_defined_ethnicity\", \"gender\", \"officer_defined_ethnicity\", \"object_of_search\", \"location\"]]\n",
    "manchester_stops.head()"
   ]
  },
  {
   "cell_type": "code",
   "execution_count": 6,
   "id": "3ca3a0da",
   "metadata": {},
   "outputs": [
    {
     "name": "stderr",
     "output_type": "stream",
     "text": [
      "<ipython-input-6-806db5a671d7>:1: SettingWithCopyWarning: \n",
      "A value is trying to be set on a copy of a slice from a DataFrame.\n",
      "Try using .loc[row_indexer,col_indexer] = value instead\n",
      "\n",
      "See the caveats in the documentation: https://pandas.pydata.org/pandas-docs/stable/user_guide/indexing.html#returning-a-view-versus-a-copy\n",
      "  manchester_stops['country'] = 'manchester'\n"
     ]
    }
   ],
   "source": [
    "manchester_stops['country'] = 'manchester'"
   ]
  },
  {
   "cell_type": "code",
   "execution_count": 7,
   "id": "58fe0390",
   "metadata": {},
   "outputs": [
    {
     "data": {
      "text/html": [
       "<div>\n",
       "<style scoped>\n",
       "    .dataframe tbody tr th:only-of-type {\n",
       "        vertical-align: middle;\n",
       "    }\n",
       "\n",
       "    .dataframe tbody tr th {\n",
       "        vertical-align: top;\n",
       "    }\n",
       "\n",
       "    .dataframe thead th {\n",
       "        text-align: right;\n",
       "    }\n",
       "</style>\n",
       "<table border=\"1\" class=\"dataframe\">\n",
       "  <thead>\n",
       "    <tr style=\"text-align: right;\">\n",
       "      <th></th>\n",
       "      <th>age_range</th>\n",
       "      <th>self_defined_ethnicity</th>\n",
       "      <th>gender</th>\n",
       "      <th>officer_defined_ethnicity</th>\n",
       "      <th>object_of_search</th>\n",
       "      <th>location</th>\n",
       "    </tr>\n",
       "    <tr>\n",
       "      <th>country</th>\n",
       "      <th></th>\n",
       "      <th></th>\n",
       "      <th></th>\n",
       "      <th></th>\n",
       "      <th></th>\n",
       "      <th></th>\n",
       "    </tr>\n",
       "  </thead>\n",
       "  <tbody>\n",
       "    <tr>\n",
       "      <th>manchester</th>\n",
       "      <td>10-17</td>\n",
       "      <td>Other ethnic group - Not stated</td>\n",
       "      <td>Male</td>\n",
       "      <td>Asian</td>\n",
       "      <td>Controlled drugs</td>\n",
       "      <td>{'latitude': '53.488565', 'street': {'id': 148...</td>\n",
       "    </tr>\n",
       "    <tr>\n",
       "      <th>manchester</th>\n",
       "      <td>over 34</td>\n",
       "      <td>Other ethnic group - Not stated</td>\n",
       "      <td>Male</td>\n",
       "      <td>White</td>\n",
       "      <td>Stolen goods</td>\n",
       "      <td>{'latitude': '53.477512', 'street': {'id': 148...</td>\n",
       "    </tr>\n",
       "    <tr>\n",
       "      <th>manchester</th>\n",
       "      <td>10-17</td>\n",
       "      <td>White - English/Welsh/Scottish/Northern Irish/...</td>\n",
       "      <td>None</td>\n",
       "      <td>White</td>\n",
       "      <td>Controlled drugs</td>\n",
       "      <td>{'latitude': '53.477512', 'street': {'id': 148...</td>\n",
       "    </tr>\n",
       "    <tr>\n",
       "      <th>manchester</th>\n",
       "      <td>10-17</td>\n",
       "      <td>White - English/Welsh/Scottish/Northern Irish/...</td>\n",
       "      <td>None</td>\n",
       "      <td>White</td>\n",
       "      <td>Controlled drugs</td>\n",
       "      <td>{'latitude': '53.477512', 'street': {'id': 148...</td>\n",
       "    </tr>\n",
       "    <tr>\n",
       "      <th>manchester</th>\n",
       "      <td>10-17</td>\n",
       "      <td>White - English/Welsh/Scottish/Northern Irish/...</td>\n",
       "      <td>Male</td>\n",
       "      <td>White</td>\n",
       "      <td>Controlled drugs</td>\n",
       "      <td>{'latitude': '53.477512', 'street': {'id': 148...</td>\n",
       "    </tr>\n",
       "  </tbody>\n",
       "</table>\n",
       "</div>"
      ],
      "text/plain": [
       "           age_range                             self_defined_ethnicity  \\\n",
       "country                                                                   \n",
       "manchester     10-17                    Other ethnic group - Not stated   \n",
       "manchester   over 34                    Other ethnic group - Not stated   \n",
       "manchester     10-17  White - English/Welsh/Scottish/Northern Irish/...   \n",
       "manchester     10-17  White - English/Welsh/Scottish/Northern Irish/...   \n",
       "manchester     10-17  White - English/Welsh/Scottish/Northern Irish/...   \n",
       "\n",
       "           gender officer_defined_ethnicity  object_of_search  \\\n",
       "country                                                         \n",
       "manchester   Male                     Asian  Controlled drugs   \n",
       "manchester   Male                     White      Stolen goods   \n",
       "manchester   None                     White  Controlled drugs   \n",
       "manchester   None                     White  Controlled drugs   \n",
       "manchester   Male                     White  Controlled drugs   \n",
       "\n",
       "                                                     location  \n",
       "country                                                        \n",
       "manchester  {'latitude': '53.488565', 'street': {'id': 148...  \n",
       "manchester  {'latitude': '53.477512', 'street': {'id': 148...  \n",
       "manchester  {'latitude': '53.477512', 'street': {'id': 148...  \n",
       "manchester  {'latitude': '53.477512', 'street': {'id': 148...  \n",
       "manchester  {'latitude': '53.477512', 'street': {'id': 148...  "
      ]
     },
     "execution_count": 7,
     "metadata": {},
     "output_type": "execute_result"
    }
   ],
   "source": [
    "manchester_stops.set_index('country', inplace=True)\n",
    "manchester_stops.head()"
   ]
  },
  {
   "cell_type": "code",
   "execution_count": 8,
   "id": "6cc38e47",
   "metadata": {},
   "outputs": [],
   "source": [
    "man_selected = manchester_stops.head(100)\n",
    "man_selected.to_csv(\"../data/selected_locations/Manchester_selected.csv\")"
   ]
  },
  {
   "cell_type": "code",
   "execution_count": 9,
   "id": "6bc5583d",
   "metadata": {},
   "outputs": [
    {
     "data": {
      "text/plain": [
       "gender\n",
       "Female     16\n",
       "Male      163\n",
       "Name: gender, dtype: int64"
      ]
     },
     "execution_count": 9,
     "metadata": {},
     "output_type": "execute_result"
    }
   ],
   "source": [
    "gender = manchester_stops[\"gender\"]\n",
    "gender.groupby(gender).count()"
   ]
  },
  {
   "cell_type": "code",
   "execution_count": 10,
   "id": "b6fbb4c1",
   "metadata": {},
   "outputs": [
    {
     "data": {
      "text/plain": [
       "self_defined_ethnicity\n",
       "Asian/Asian British - Any other Asian background                              8\n",
       "Asian/Asian British - Indian                                                  2\n",
       "Asian/Asian British - Pakistani                                               9\n",
       "Black/African/Caribbean/Black British - African                               6\n",
       "Black/African/Caribbean/Black British - Caribbean                             2\n",
       "Mixed/Multiple ethnic groups - Any other Mixed/Multiple ethnic background     2\n",
       "Mixed/Multiple ethnic groups - White and Asian                                1\n",
       "Mixed/Multiple ethnic groups - White and Black African                        1\n",
       "Mixed/Multiple ethnic groups - White and Black Caribbean                      1\n",
       "Other ethnic group - Any other ethnic group                                   2\n",
       "Other ethnic group - Not stated                                              60\n",
       "White - Any other White background                                            5\n",
       "White - English/Welsh/Scottish/Northern Irish/British                        91\n",
       "White - Irish                                                                 3\n",
       "Name: self_defined_ethnicity, dtype: int64"
      ]
     },
     "execution_count": 10,
     "metadata": {},
     "output_type": "execute_result"
    }
   ],
   "source": [
    "ethnicity = manchester_stops[\"self_defined_ethnicity\"]\n",
    "ethnicity.groupby(ethnicity).count()"
   ]
  },
  {
   "cell_type": "code",
   "execution_count": 11,
   "id": "c04f3e77",
   "metadata": {},
   "outputs": [
    {
     "data": {
      "text/plain": [
       "object_of_search\n",
       "Anything to threaten or harm anyone     17\n",
       "Article for use in theft                 5\n",
       "Articles for use in criminal damage      1\n",
       "Controlled drugs                       138\n",
       "Evidence of offences under the Act       8\n",
       "Offensive weapons                        8\n",
       "Stolen goods                            16\n",
       "Name: object_of_search, dtype: int64"
      ]
     },
     "execution_count": 11,
     "metadata": {},
     "output_type": "execute_result"
    }
   ],
   "source": [
    "crime_type = manchester_stops[\"object_of_search\"]\n",
    "crime_type.groupby(crime_type).count()"
   ]
  },
  {
   "cell_type": "code",
   "execution_count": 12,
   "id": "cf1a0c3a",
   "metadata": {},
   "outputs": [
    {
     "data": {
      "text/plain": [
       "age_range\n",
       "10-17      47\n",
       "18-24      48\n",
       "25-34      49\n",
       "over 34    39\n",
       "Name: age_range, dtype: int64"
      ]
     },
     "execution_count": 12,
     "metadata": {},
     "output_type": "execute_result"
    }
   ],
   "source": [
    "age_range = manchester_stops[\"age_range\"]\n",
    "age_range.groupby(age_range).count()"
   ]
  },
  {
   "cell_type": "code",
   "execution_count": 13,
   "id": "ec74300d",
   "metadata": {},
   "outputs": [
    {
     "data": {
      "text/plain": [
       "self_defined_ethnicity\n",
       "Asian/Asian British - Any other Asian background                              8\n",
       "Asian/Asian British - Indian                                                  2\n",
       "Asian/Asian British - Pakistani                                               9\n",
       "Black/African/Caribbean/Black British - African                               6\n",
       "Black/African/Caribbean/Black British - Caribbean                             2\n",
       "Mixed/Multiple ethnic groups - Any other Mixed/Multiple ethnic background     2\n",
       "Mixed/Multiple ethnic groups - White and Asian                                1\n",
       "Mixed/Multiple ethnic groups - White and Black African                        1\n",
       "Mixed/Multiple ethnic groups - White and Black Caribbean                      1\n",
       "Other ethnic group - Any other ethnic group                                   2\n",
       "Other ethnic group - Not stated                                              60\n",
       "White - Any other White background                                            5\n",
       "White - English/Welsh/Scottish/Northern Irish/British                        91\n",
       "White - Irish                                                                 3\n",
       "Name: self_defined_ethnicity, dtype: int64"
      ]
     },
     "execution_count": 13,
     "metadata": {},
     "output_type": "execute_result"
    }
   ],
   "source": [
    "self_defined_ethnicity = manchester_data[\"self_defined_ethnicity\"]\n",
    "self_defined_ethnicity.groupby(self_defined_ethnicity).count()"
   ]
  },
  {
   "cell_type": "code",
   "execution_count": 14,
   "id": "d07c5253",
   "metadata": {},
   "outputs": [],
   "source": [
    "manchester_stops.to_csv(\"../data/manchester.csv\")"
   ]
  }
 ],
 "metadata": {
  "kernelspec": {
   "display_name": "Python 3",
   "language": "python",
   "name": "python3"
  },
  "language_info": {
   "codemirror_mode": {
    "name": "ipython",
    "version": 3
   },
   "file_extension": ".py",
   "mimetype": "text/x-python",
   "name": "python",
   "nbconvert_exporter": "python",
   "pygments_lexer": "ipython3",
   "version": "3.8.8"
  }
 },
 "nbformat": 4,
 "nbformat_minor": 5
}
