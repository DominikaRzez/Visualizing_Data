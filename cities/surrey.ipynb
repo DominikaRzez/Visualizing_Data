{
 "cells": [
  {
   "cell_type": "code",
   "execution_count": 1,
   "id": "72d6a265",
   "metadata": {},
   "outputs": [],
   "source": [
    "import requests\n",
    "import json\n",
    "import pandas as pd"
   ]
  },
  {
   "cell_type": "code",
   "execution_count": 2,
   "id": "8fae993d",
   "metadata": {},
   "outputs": [],
   "source": [
    "base_url = \"https://data.police.uk/api/stops-street?\"\n",
    "coordinates = \"lat=51.3148&lng=-0.5600&date=\" \n",
    "dates = [\"2021-01\",\"2021-02\",\"2021-03\",\"2021-04\",\"2021-05\"]"
   ]
  },
  {
   "cell_type": "code",
   "execution_count": 3,
   "id": "ff126fdd",
   "metadata": {},
   "outputs": [],
   "source": [
    "jan_may = []\n",
    "for date in dates:\n",
    "    query_url = base_url + coordinates + date\n",
    "    response = requests.get(query_url).json()\n",
    "    jan_may.append(response)"
   ]
  },
  {
   "cell_type": "code",
   "execution_count": 4,
   "id": "8a76fcf0",
   "metadata": {},
   "outputs": [
    {
     "data": {
      "text/html": [
       "<div>\n",
       "<style scoped>\n",
       "    .dataframe tbody tr th:only-of-type {\n",
       "        vertical-align: middle;\n",
       "    }\n",
       "\n",
       "    .dataframe tbody tr th {\n",
       "        vertical-align: top;\n",
       "    }\n",
       "\n",
       "    .dataframe thead th {\n",
       "        text-align: right;\n",
       "    }\n",
       "</style>\n",
       "<table border=\"1\" class=\"dataframe\">\n",
       "  <thead>\n",
       "    <tr style=\"text-align: right;\">\n",
       "      <th></th>\n",
       "      <th>age_range</th>\n",
       "      <th>outcome</th>\n",
       "      <th>involved_person</th>\n",
       "      <th>self_defined_ethnicity</th>\n",
       "      <th>gender</th>\n",
       "      <th>legislation</th>\n",
       "      <th>outcome_linked_to_object_of_search</th>\n",
       "      <th>datetime</th>\n",
       "      <th>removal_of_more_than_outer_clothing</th>\n",
       "      <th>outcome_object</th>\n",
       "      <th>location</th>\n",
       "      <th>operation</th>\n",
       "      <th>officer_defined_ethnicity</th>\n",
       "      <th>type</th>\n",
       "      <th>operation_name</th>\n",
       "      <th>object_of_search</th>\n",
       "    </tr>\n",
       "  </thead>\n",
       "  <tbody>\n",
       "    <tr>\n",
       "      <th>0</th>\n",
       "      <td>18-24</td>\n",
       "      <td>A no further action disposal</td>\n",
       "      <td>True</td>\n",
       "      <td>White - English/Welsh/Scottish/Northern Irish/...</td>\n",
       "      <td>Male</td>\n",
       "      <td>Misuse of Drugs Act 1971 (section 23)</td>\n",
       "      <td>False</td>\n",
       "      <td>2021-01-13T14:45:00+00:00</td>\n",
       "      <td>False</td>\n",
       "      <td>{'id': 'bu-no-further-action', 'name': 'A no f...</td>\n",
       "      <td>{'latitude': '51.318600', 'street': {'id': 148...</td>\n",
       "      <td>None</td>\n",
       "      <td>White</td>\n",
       "      <td>Person search</td>\n",
       "      <td>None</td>\n",
       "      <td>Controlled drugs</td>\n",
       "    </tr>\n",
       "    <tr>\n",
       "      <th>1</th>\n",
       "      <td>over 34</td>\n",
       "      <td>A no further action disposal</td>\n",
       "      <td>True</td>\n",
       "      <td>Asian/Asian British - Pakistani</td>\n",
       "      <td>Male</td>\n",
       "      <td>None</td>\n",
       "      <td>False</td>\n",
       "      <td>2021-01-15T13:46:00+00:00</td>\n",
       "      <td>None</td>\n",
       "      <td>{'id': 'bu-no-further-action', 'name': 'A no f...</td>\n",
       "      <td>{'latitude': '51.324810', 'street': {'id': 115...</td>\n",
       "      <td>False</td>\n",
       "      <td>Asian</td>\n",
       "      <td>Person search</td>\n",
       "      <td>None</td>\n",
       "      <td>Controlled drugs</td>\n",
       "    </tr>\n",
       "    <tr>\n",
       "      <th>2</th>\n",
       "      <td>18-24</td>\n",
       "      <td>A no further action disposal</td>\n",
       "      <td>True</td>\n",
       "      <td>White - English/Welsh/Scottish/Northern Irish/...</td>\n",
       "      <td>Male</td>\n",
       "      <td>None</td>\n",
       "      <td>True</td>\n",
       "      <td>2021-01-30T22:13:00+00:00</td>\n",
       "      <td>None</td>\n",
       "      <td>{'id': 'bu-no-further-action', 'name': 'A no f...</td>\n",
       "      <td>{'latitude': '51.319841', 'street': {'id': 115...</td>\n",
       "      <td>False</td>\n",
       "      <td>White</td>\n",
       "      <td>Person search</td>\n",
       "      <td>None</td>\n",
       "      <td>Controlled drugs</td>\n",
       "    </tr>\n",
       "    <tr>\n",
       "      <th>3</th>\n",
       "      <td>10-17</td>\n",
       "      <td>A no further action disposal</td>\n",
       "      <td>True</td>\n",
       "      <td>White - English/Welsh/Scottish/Northern Irish/...</td>\n",
       "      <td>Male</td>\n",
       "      <td>None</td>\n",
       "      <td>False</td>\n",
       "      <td>2021-01-26T01:45:00+00:00</td>\n",
       "      <td>None</td>\n",
       "      <td>{'id': 'bu-no-further-action', 'name': 'A no f...</td>\n",
       "      <td>{'latitude': '51.320786', 'street': {'id': 115...</td>\n",
       "      <td>False</td>\n",
       "      <td>White</td>\n",
       "      <td>Person search</td>\n",
       "      <td>None</td>\n",
       "      <td>Controlled drugs</td>\n",
       "    </tr>\n",
       "    <tr>\n",
       "      <th>4</th>\n",
       "      <td>25-34</td>\n",
       "      <td>A no further action disposal</td>\n",
       "      <td>True</td>\n",
       "      <td>White - English/Welsh/Scottish/Northern Irish/...</td>\n",
       "      <td>Male</td>\n",
       "      <td>None</td>\n",
       "      <td>False</td>\n",
       "      <td>2021-01-12T15:40:00+00:00</td>\n",
       "      <td>None</td>\n",
       "      <td>{'id': 'bu-no-further-action', 'name': 'A no f...</td>\n",
       "      <td>{'latitude': '51.321290', 'street': {'id': 115...</td>\n",
       "      <td>False</td>\n",
       "      <td>White</td>\n",
       "      <td>Person search</td>\n",
       "      <td>None</td>\n",
       "      <td>Controlled drugs</td>\n",
       "    </tr>\n",
       "  </tbody>\n",
       "</table>\n",
       "</div>"
      ],
      "text/plain": [
       "  age_range                       outcome  involved_person  \\\n",
       "0     18-24  A no further action disposal             True   \n",
       "1   over 34  A no further action disposal             True   \n",
       "2     18-24  A no further action disposal             True   \n",
       "3     10-17  A no further action disposal             True   \n",
       "4     25-34  A no further action disposal             True   \n",
       "\n",
       "                              self_defined_ethnicity gender  \\\n",
       "0  White - English/Welsh/Scottish/Northern Irish/...   Male   \n",
       "1                    Asian/Asian British - Pakistani   Male   \n",
       "2  White - English/Welsh/Scottish/Northern Irish/...   Male   \n",
       "3  White - English/Welsh/Scottish/Northern Irish/...   Male   \n",
       "4  White - English/Welsh/Scottish/Northern Irish/...   Male   \n",
       "\n",
       "                             legislation  outcome_linked_to_object_of_search  \\\n",
       "0  Misuse of Drugs Act 1971 (section 23)                               False   \n",
       "1                                   None                               False   \n",
       "2                                   None                                True   \n",
       "3                                   None                               False   \n",
       "4                                   None                               False   \n",
       "\n",
       "                    datetime removal_of_more_than_outer_clothing  \\\n",
       "0  2021-01-13T14:45:00+00:00                               False   \n",
       "1  2021-01-15T13:46:00+00:00                                None   \n",
       "2  2021-01-30T22:13:00+00:00                                None   \n",
       "3  2021-01-26T01:45:00+00:00                                None   \n",
       "4  2021-01-12T15:40:00+00:00                                None   \n",
       "\n",
       "                                      outcome_object  \\\n",
       "0  {'id': 'bu-no-further-action', 'name': 'A no f...   \n",
       "1  {'id': 'bu-no-further-action', 'name': 'A no f...   \n",
       "2  {'id': 'bu-no-further-action', 'name': 'A no f...   \n",
       "3  {'id': 'bu-no-further-action', 'name': 'A no f...   \n",
       "4  {'id': 'bu-no-further-action', 'name': 'A no f...   \n",
       "\n",
       "                                            location operation  \\\n",
       "0  {'latitude': '51.318600', 'street': {'id': 148...      None   \n",
       "1  {'latitude': '51.324810', 'street': {'id': 115...     False   \n",
       "2  {'latitude': '51.319841', 'street': {'id': 115...     False   \n",
       "3  {'latitude': '51.320786', 'street': {'id': 115...     False   \n",
       "4  {'latitude': '51.321290', 'street': {'id': 115...     False   \n",
       "\n",
       "  officer_defined_ethnicity           type operation_name  object_of_search  \n",
       "0                     White  Person search           None  Controlled drugs  \n",
       "1                     Asian  Person search           None  Controlled drugs  \n",
       "2                     White  Person search           None  Controlled drugs  \n",
       "3                     White  Person search           None  Controlled drugs  \n",
       "4                     White  Person search           None  Controlled drugs  "
      ]
     },
     "execution_count": 4,
     "metadata": {},
     "output_type": "execute_result"
    }
   ],
   "source": [
    "surrey_data = pd.DataFrame.from_dict(jan_may[0])\n",
    "surrey_data = surrey_data.append(pd.DataFrame.from_dict(jan_may[1]))\n",
    "surrey_data = surrey_data.append(pd.DataFrame.from_dict(jan_may[2]))\n",
    "surrey_data = surrey_data.append(pd.DataFrame.from_dict(jan_may[3]))\n",
    "surrey_data = surrey_data.append(pd.DataFrame.from_dict(jan_may[4]))\n",
    "surrey_data.head()"
   ]
  },
  {
   "cell_type": "code",
   "execution_count": 5,
   "id": "961844a0",
   "metadata": {},
   "outputs": [
    {
     "data": {
      "text/html": [
       "<div>\n",
       "<style scoped>\n",
       "    .dataframe tbody tr th:only-of-type {\n",
       "        vertical-align: middle;\n",
       "    }\n",
       "\n",
       "    .dataframe tbody tr th {\n",
       "        vertical-align: top;\n",
       "    }\n",
       "\n",
       "    .dataframe thead th {\n",
       "        text-align: right;\n",
       "    }\n",
       "</style>\n",
       "<table border=\"1\" class=\"dataframe\">\n",
       "  <thead>\n",
       "    <tr style=\"text-align: right;\">\n",
       "      <th></th>\n",
       "      <th>age_range</th>\n",
       "      <th>self_defined_ethnicity</th>\n",
       "      <th>gender</th>\n",
       "      <th>officer_defined_ethnicity</th>\n",
       "      <th>object_of_search</th>\n",
       "      <th>location</th>\n",
       "    </tr>\n",
       "  </thead>\n",
       "  <tbody>\n",
       "    <tr>\n",
       "      <th>0</th>\n",
       "      <td>18-24</td>\n",
       "      <td>White - English/Welsh/Scottish/Northern Irish/...</td>\n",
       "      <td>Male</td>\n",
       "      <td>White</td>\n",
       "      <td>Controlled drugs</td>\n",
       "      <td>{'latitude': '51.318600', 'street': {'id': 148...</td>\n",
       "    </tr>\n",
       "    <tr>\n",
       "      <th>1</th>\n",
       "      <td>over 34</td>\n",
       "      <td>Asian/Asian British - Pakistani</td>\n",
       "      <td>Male</td>\n",
       "      <td>Asian</td>\n",
       "      <td>Controlled drugs</td>\n",
       "      <td>{'latitude': '51.324810', 'street': {'id': 115...</td>\n",
       "    </tr>\n",
       "    <tr>\n",
       "      <th>2</th>\n",
       "      <td>18-24</td>\n",
       "      <td>White - English/Welsh/Scottish/Northern Irish/...</td>\n",
       "      <td>Male</td>\n",
       "      <td>White</td>\n",
       "      <td>Controlled drugs</td>\n",
       "      <td>{'latitude': '51.319841', 'street': {'id': 115...</td>\n",
       "    </tr>\n",
       "    <tr>\n",
       "      <th>3</th>\n",
       "      <td>10-17</td>\n",
       "      <td>White - English/Welsh/Scottish/Northern Irish/...</td>\n",
       "      <td>Male</td>\n",
       "      <td>White</td>\n",
       "      <td>Controlled drugs</td>\n",
       "      <td>{'latitude': '51.320786', 'street': {'id': 115...</td>\n",
       "    </tr>\n",
       "    <tr>\n",
       "      <th>4</th>\n",
       "      <td>25-34</td>\n",
       "      <td>White - English/Welsh/Scottish/Northern Irish/...</td>\n",
       "      <td>Male</td>\n",
       "      <td>White</td>\n",
       "      <td>Controlled drugs</td>\n",
       "      <td>{'latitude': '51.321290', 'street': {'id': 115...</td>\n",
       "    </tr>\n",
       "  </tbody>\n",
       "</table>\n",
       "</div>"
      ],
      "text/plain": [
       "  age_range                             self_defined_ethnicity gender  \\\n",
       "0     18-24  White - English/Welsh/Scottish/Northern Irish/...   Male   \n",
       "1   over 34                    Asian/Asian British - Pakistani   Male   \n",
       "2     18-24  White - English/Welsh/Scottish/Northern Irish/...   Male   \n",
       "3     10-17  White - English/Welsh/Scottish/Northern Irish/...   Male   \n",
       "4     25-34  White - English/Welsh/Scottish/Northern Irish/...   Male   \n",
       "\n",
       "  officer_defined_ethnicity  object_of_search  \\\n",
       "0                     White  Controlled drugs   \n",
       "1                     Asian  Controlled drugs   \n",
       "2                     White  Controlled drugs   \n",
       "3                     White  Controlled drugs   \n",
       "4                     White  Controlled drugs   \n",
       "\n",
       "                                            location  \n",
       "0  {'latitude': '51.318600', 'street': {'id': 148...  \n",
       "1  {'latitude': '51.324810', 'street': {'id': 115...  \n",
       "2  {'latitude': '51.319841', 'street': {'id': 115...  \n",
       "3  {'latitude': '51.320786', 'street': {'id': 115...  \n",
       "4  {'latitude': '51.321290', 'street': {'id': 115...  "
      ]
     },
     "execution_count": 5,
     "metadata": {},
     "output_type": "execute_result"
    }
   ],
   "source": [
    "surrey_stops = surrey_data[[\"age_range\", \"self_defined_ethnicity\", \"gender\", \"officer_defined_ethnicity\", \"object_of_search\", \"location\"]]\n",
    "surrey_stops.head()"
   ]
  },
  {
   "cell_type": "code",
   "execution_count": 6,
   "id": "d0a60f2a",
   "metadata": {},
   "outputs": [
    {
     "name": "stderr",
     "output_type": "stream",
     "text": [
      "<ipython-input-6-cf3cce349716>:1: SettingWithCopyWarning: \n",
      "A value is trying to be set on a copy of a slice from a DataFrame.\n",
      "Try using .loc[row_indexer,col_indexer] = value instead\n",
      "\n",
      "See the caveats in the documentation: https://pandas.pydata.org/pandas-docs/stable/user_guide/indexing.html#returning-a-view-versus-a-copy\n",
      "  surrey_stops['country'] = 'surrey'\n"
     ]
    }
   ],
   "source": [
    "surrey_stops['country'] = 'surrey'"
   ]
  },
  {
   "cell_type": "code",
   "execution_count": 7,
   "id": "cd119a1e",
   "metadata": {},
   "outputs": [
    {
     "data": {
      "text/html": [
       "<div>\n",
       "<style scoped>\n",
       "    .dataframe tbody tr th:only-of-type {\n",
       "        vertical-align: middle;\n",
       "    }\n",
       "\n",
       "    .dataframe tbody tr th {\n",
       "        vertical-align: top;\n",
       "    }\n",
       "\n",
       "    .dataframe thead th {\n",
       "        text-align: right;\n",
       "    }\n",
       "</style>\n",
       "<table border=\"1\" class=\"dataframe\">\n",
       "  <thead>\n",
       "    <tr style=\"text-align: right;\">\n",
       "      <th></th>\n",
       "      <th>age_range</th>\n",
       "      <th>self_defined_ethnicity</th>\n",
       "      <th>gender</th>\n",
       "      <th>officer_defined_ethnicity</th>\n",
       "      <th>object_of_search</th>\n",
       "      <th>location</th>\n",
       "    </tr>\n",
       "    <tr>\n",
       "      <th>country</th>\n",
       "      <th></th>\n",
       "      <th></th>\n",
       "      <th></th>\n",
       "      <th></th>\n",
       "      <th></th>\n",
       "      <th></th>\n",
       "    </tr>\n",
       "  </thead>\n",
       "  <tbody>\n",
       "    <tr>\n",
       "      <th>surrey</th>\n",
       "      <td>18-24</td>\n",
       "      <td>White - English/Welsh/Scottish/Northern Irish/...</td>\n",
       "      <td>Male</td>\n",
       "      <td>White</td>\n",
       "      <td>Controlled drugs</td>\n",
       "      <td>{'latitude': '51.318600', 'street': {'id': 148...</td>\n",
       "    </tr>\n",
       "    <tr>\n",
       "      <th>surrey</th>\n",
       "      <td>over 34</td>\n",
       "      <td>Asian/Asian British - Pakistani</td>\n",
       "      <td>Male</td>\n",
       "      <td>Asian</td>\n",
       "      <td>Controlled drugs</td>\n",
       "      <td>{'latitude': '51.324810', 'street': {'id': 115...</td>\n",
       "    </tr>\n",
       "    <tr>\n",
       "      <th>surrey</th>\n",
       "      <td>18-24</td>\n",
       "      <td>White - English/Welsh/Scottish/Northern Irish/...</td>\n",
       "      <td>Male</td>\n",
       "      <td>White</td>\n",
       "      <td>Controlled drugs</td>\n",
       "      <td>{'latitude': '51.319841', 'street': {'id': 115...</td>\n",
       "    </tr>\n",
       "    <tr>\n",
       "      <th>surrey</th>\n",
       "      <td>10-17</td>\n",
       "      <td>White - English/Welsh/Scottish/Northern Irish/...</td>\n",
       "      <td>Male</td>\n",
       "      <td>White</td>\n",
       "      <td>Controlled drugs</td>\n",
       "      <td>{'latitude': '51.320786', 'street': {'id': 115...</td>\n",
       "    </tr>\n",
       "    <tr>\n",
       "      <th>surrey</th>\n",
       "      <td>25-34</td>\n",
       "      <td>White - English/Welsh/Scottish/Northern Irish/...</td>\n",
       "      <td>Male</td>\n",
       "      <td>White</td>\n",
       "      <td>Controlled drugs</td>\n",
       "      <td>{'latitude': '51.321290', 'street': {'id': 115...</td>\n",
       "    </tr>\n",
       "  </tbody>\n",
       "</table>\n",
       "</div>"
      ],
      "text/plain": [
       "        age_range                             self_defined_ethnicity gender  \\\n",
       "country                                                                       \n",
       "surrey      18-24  White - English/Welsh/Scottish/Northern Irish/...   Male   \n",
       "surrey    over 34                    Asian/Asian British - Pakistani   Male   \n",
       "surrey      18-24  White - English/Welsh/Scottish/Northern Irish/...   Male   \n",
       "surrey      10-17  White - English/Welsh/Scottish/Northern Irish/...   Male   \n",
       "surrey      25-34  White - English/Welsh/Scottish/Northern Irish/...   Male   \n",
       "\n",
       "        officer_defined_ethnicity  object_of_search  \\\n",
       "country                                               \n",
       "surrey                      White  Controlled drugs   \n",
       "surrey                      Asian  Controlled drugs   \n",
       "surrey                      White  Controlled drugs   \n",
       "surrey                      White  Controlled drugs   \n",
       "surrey                      White  Controlled drugs   \n",
       "\n",
       "                                                  location  \n",
       "country                                                     \n",
       "surrey   {'latitude': '51.318600', 'street': {'id': 148...  \n",
       "surrey   {'latitude': '51.324810', 'street': {'id': 115...  \n",
       "surrey   {'latitude': '51.319841', 'street': {'id': 115...  \n",
       "surrey   {'latitude': '51.320786', 'street': {'id': 115...  \n",
       "surrey   {'latitude': '51.321290', 'street': {'id': 115...  "
      ]
     },
     "execution_count": 7,
     "metadata": {},
     "output_type": "execute_result"
    }
   ],
   "source": [
    "surrey_stops.set_index('country', inplace=True)\n",
    "surrey_stops.head()"
   ]
  },
  {
   "cell_type": "code",
   "execution_count": 8,
   "id": "b6a3006d",
   "metadata": {},
   "outputs": [],
   "source": [
    "sur_selected = surrey_stops.head(100)\n",
    "sur_selected.to_csv(\"../data/selected_locations/Surrey_selected.csv\")"
   ]
  },
  {
   "cell_type": "code",
   "execution_count": 9,
   "id": "e35396a6",
   "metadata": {},
   "outputs": [
    {
     "data": {
      "text/plain": [
       "age_range\n",
       "10-17       28\n",
       "18-24       57\n",
       "25-34       14\n",
       "over 34     23\n",
       "under 10     1\n",
       "Name: age_range, dtype: int64"
      ]
     },
     "execution_count": 9,
     "metadata": {},
     "output_type": "execute_result"
    }
   ],
   "source": [
    "age_range = surrey_stops[\"age_range\"]\n",
    "age_range.groupby(age_range).count()"
   ]
  },
  {
   "cell_type": "code",
   "execution_count": 10,
   "id": "986c61dd",
   "metadata": {},
   "outputs": [
    {
     "data": {
      "text/plain": [
       "self_defined_ethnicity\n",
       "Asian/Asian British - Any other Asian background                                         6\n",
       "Asian/Asian British - Pakistani                                                          3\n",
       "Black/African/Caribbean/Black British - African                                          1\n",
       "Black/African/Caribbean/Black British - Any other Black/African/Caribbean background     2\n",
       "Black/African/Caribbean/Black British - Caribbean                                        1\n",
       "Mixed/Multiple ethnic groups - White and Asian                                           1\n",
       "Mixed/Multiple ethnic groups - White and Black Caribbean                                 1\n",
       "Other ethnic group - Any other ethnic group                                              4\n",
       "Other ethnic group - Not stated                                                         21\n",
       "White - Any other White background                                                      10\n",
       "White - English/Welsh/Scottish/Northern Irish/British                                   75\n",
       "White - Irish                                                                            2\n",
       "Name: self_defined_ethnicity, dtype: int64"
      ]
     },
     "execution_count": 10,
     "metadata": {},
     "output_type": "execute_result"
    }
   ],
   "source": [
    "self_defined_ethnicity = surrey_stops[\"self_defined_ethnicity\"]\n",
    "self_defined_ethnicity.groupby(self_defined_ethnicity).count()"
   ]
  },
  {
   "cell_type": "code",
   "execution_count": 11,
   "id": "a2b4fa27",
   "metadata": {},
   "outputs": [
    {
     "data": {
      "text/plain": [
       "gender\n",
       "Female     14\n",
       "Male      109\n",
       "Name: gender, dtype: int64"
      ]
     },
     "execution_count": 11,
     "metadata": {},
     "output_type": "execute_result"
    }
   ],
   "source": [
    "gender = surrey_stops[\"gender\"]\n",
    "gender.groupby(gender).count()"
   ]
  },
  {
   "cell_type": "code",
   "execution_count": 12,
   "id": "1851282f",
   "metadata": {},
   "outputs": [
    {
     "data": {
      "text/plain": [
       "officer_defined_ethnicity\n",
       "Asian    14\n",
       "Black    10\n",
       "White    99\n",
       "Name: officer_defined_ethnicity, dtype: int64"
      ]
     },
     "execution_count": 12,
     "metadata": {},
     "output_type": "execute_result"
    }
   ],
   "source": [
    "officer_defined_ethnicity = surrey_stops[\"officer_defined_ethnicity\"]\n",
    "officer_defined_ethnicity.groupby(officer_defined_ethnicity).count()"
   ]
  },
  {
   "cell_type": "code",
   "execution_count": 13,
   "id": "2edb2c8e",
   "metadata": {},
   "outputs": [
    {
     "data": {
      "text/plain": [
       "object_of_search\n",
       "Anything to threaten or harm anyone    18\n",
       "Article for use in theft                7\n",
       "Articles for use in criminal damage     4\n",
       "Controlled drugs                       76\n",
       "Evidence of offences under the Act      1\n",
       "Firearms                                2\n",
       "Offensive weapons                      11\n",
       "Stolen goods                            8\n",
       "Name: object_of_search, dtype: int64"
      ]
     },
     "execution_count": 13,
     "metadata": {},
     "output_type": "execute_result"
    }
   ],
   "source": [
    "object_of_search = surrey_stops[\"object_of_search\"]\n",
    "object_of_search.groupby(object_of_search).count()"
   ]
  },
  {
   "cell_type": "code",
   "execution_count": 14,
   "id": "e7dc9cba",
   "metadata": {},
   "outputs": [],
   "source": [
    "surrey_stops.to_csv(\"../data/surrey.csv\")"
   ]
  }
 ],
 "metadata": {
  "kernelspec": {
   "display_name": "Python 3",
   "language": "python",
   "name": "python3"
  },
  "language_info": {
   "codemirror_mode": {
    "name": "ipython",
    "version": 3
   },
   "file_extension": ".py",
   "mimetype": "text/x-python",
   "name": "python",
   "nbconvert_exporter": "python",
   "pygments_lexer": "ipython3",
   "version": "3.8.8"
  }
 },
 "nbformat": 4,
 "nbformat_minor": 5
}
